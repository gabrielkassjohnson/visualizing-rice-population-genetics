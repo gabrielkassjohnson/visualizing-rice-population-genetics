{
 "cells": [
  {
   "cell_type": "code",
   "execution_count": 1,
   "metadata": {},
   "outputs": [
    {
     "name": "stdout",
     "output_type": "stream",
     "text": [
      " baseline.ipynb\r\n",
      " cmdist.npy\r\n",
      " HierarchicalClusteringComplete.ipynb\r\n",
      " memmap.ipynb\r\n",
      " metadata.csv\r\n",
      " pogo.ipynb\r\n",
      " README.md\r\n",
      " \u001b[0m\u001b[01;35mrice10frames.gif\u001b[0m\r\n",
      " \u001b[01;35mrice135frames.gif\u001b[0m\r\n",
      " \u001b[01;35mrice180frames.gif\u001b[0m\r\n",
      " \u001b[01;35mrice20frames.gif\u001b[0m\r\n",
      " \u001b[01;35mrice270frames.gif\u001b[0m\r\n",
      " \u001b[01;35mrice35frames.gif\u001b[0m\r\n",
      " Rice3k.ipynb\r\n",
      " \u001b[01;35mrice40frames.gif\u001b[0m\r\n",
      " \u001b[01;35mrice90frames.gif\u001b[0m\r\n",
      "\u001b[01;35m'UMAP 3D Embedding Colored by 12 Hierarchical Clusters.png'\u001b[0m\r\n",
      "\u001b[01;35m'UMAP 3D Embedding Labeled by Subpopulation.png'\u001b[0m\r\n",
      "\u001b[01;35m'Unlabeled UMAP 3D Embedding.png'\u001b[0m\r\n",
      " Untitled1.ipynb\r\n",
      " Untitled.ipynb\r\n",
      " visualizing-4-dimensional-data.ipynb\r\n",
      " visualizing-rice-population-genetics.ipynb\r\n"
     ]
    }
   ],
   "source": [
    "ls"
   ]
  },
  {
   "cell_type": "code",
   "execution_count": 2,
   "metadata": {},
   "outputs": [],
   "source": [
    "#basic imports\n",
    "import numpy as np\n",
    "import pandas as pd\n",
    "import matplotlib.pyplot as plt\n",
    "import scipy\n",
    "\n",
    "from sklearn.metrics import adjusted_rand_score, adjusted_mutual_info_score\n",
    "#from sklearn.cluster import DBSCAN,SpectralClustering\n",
    "#from sklearn.decomposition import KernelPCA\n",
    "from sklearn import metrics\n",
    "\n",
    "#from scipy.cluster.hierarchy import fcluster\n",
    "#from scipy.cluster.hierarchy import linkage\n",
    "#from scipy.cluster.hierarchy import dendrogram\n",
    "\n",
    "\n",
    "#from gtda.mapper import (\n",
    "#    CubicalCover,\n",
    "#    make_mapper_pipeline,\n",
    "#    Projection,\n",
    "#    Eccentricity,\n",
    "#    plot_static_mapper_graph,\n",
    "#    plot_interactive_mapper_graph,\n",
    "#    FirstSimpleGap,\n",
    "#    FirstHistogramGap)\n",
    "\n",
    "#from gtda.homology import VietorisRipsPersistence\n",
    "#from gtda import diagrams\n",
    "\n",
    "\n",
    "from umap import UMAP\n",
    "\n",
    "#from pandas_plink import read_plink1_bin\n",
    "\n",
    "#from sklearn.decomposition import PCA, KernelPCA\n",
    "\n",
    "#deprecated imports\n",
    "\n",
    "#import datashader as ds\n",
    "import pandas as pd\n",
    "#from colorcet import fire\n",
    "#from datashader import transfer_functions as tf\n",
    "\n",
    "#import seaborn as sns#; sns.set_theme()\n",
    "\n",
    "from matplotlib.colors import ListedColormap\n",
    "\n",
    "\n",
    "#from sklearn.manifold import MDS"
   ]
  },
  {
   "cell_type": "code",
   "execution_count": 74,
   "metadata": {},
   "outputs": [],
   "source": [
    "#from gudhi.clustering.tomato import Tomato\n",
    "from matplotlib import animation\n",
    "%matplotlib inline"
   ]
  },
  {
   "cell_type": "code",
   "execution_count": 4,
   "metadata": {},
   "outputs": [],
   "source": [
    "metadata = pd.read_csv('metadata.csv',index_col='sample')"
   ]
  },
  {
   "cell_type": "code",
   "execution_count": 46,
   "metadata": {},
   "outputs": [
    {
     "name": "stdout",
     "output_type": "stream",
     "text": [
      "['temp' 'japx' 'indx' 'ind1A' 'ind2' 'trop' 'admix' 'ind3' 'ind1B' 'aus'\n",
      " 'subtrop' 'aro']\n"
     ]
    }
   ],
   "source": [
    "metadata\n",
    "print(pd.unique(list(metadata['SUBPOPULATION'])))"
   ]
  },
  {
   "cell_type": "code",
   "execution_count": 6,
   "metadata": {},
   "outputs": [],
   "source": [
    "cmdist = np.load('cmdist.npy') #condensed mdist"
   ]
  },
  {
   "cell_type": "code",
   "execution_count": 7,
   "metadata": {},
   "outputs": [
    {
     "name": "stdout",
     "output_type": "stream",
     "text": [
      "(4570776,)\n",
      "0.9920769162289682\n"
     ]
    }
   ],
   "source": [
    "print(cmdist.shape)\n",
    "print(np.amax(cmdist))"
   ]
  },
  {
   "cell_type": "code",
   "execution_count": 8,
   "metadata": {},
   "outputs": [],
   "source": [
    "mdist =  scipy.spatial.distance.squareform(cmdist, force='no', checks=True)"
   ]
  },
  {
   "cell_type": "code",
   "execution_count": 15,
   "metadata": {
    "scrolled": true
   },
   "outputs": [
    {
     "name": "stderr",
     "output_type": "stream",
     "text": [
      "/home/a/anaconda3/envs/env-tda/lib/python3.9/site-packages/umap/umap_.py:1735: UserWarning: using precomputed metric; transform will be unavailable for new data and inverse_transform will be unavailable for all data\n",
      "  warn(\n"
     ]
    }
   ],
   "source": [
    "#Create a 4-d umap dimensionality reduction embedding to visualize all unsupervised models\n",
    "umap_model_4d = UMAP(n_components=4,metric='precomputed',min_dist=0.16)\n",
    "umap_embed_4d = umap_model_4d.fit_transform(mdist)"
   ]
  },
  {
   "cell_type": "code",
   "execution_count": 60,
   "metadata": {
    "scrolled": true
   },
   "outputs": [
    {
     "name": "stderr",
     "output_type": "stream",
     "text": [
      "/home/a/anaconda3/envs/env-tda/lib/python3.9/site-packages/umap/umap_.py:1735: UserWarning: using precomputed metric; transform will be unavailable for new data and inverse_transform will be unavailable for all data\n",
      "  warn(\n"
     ]
    }
   ],
   "source": [
    "#Create a 3-d umap dimensionality reduction embedding to visualize all unsupervised models\n",
    "umap_model_3d = UMAP(n_components=3,metric='precomputed',min_dist=0.16)\n",
    "umap_embed_3d = umap_model_3d.fit_transform(mdist)"
   ]
  },
  {
   "cell_type": "code",
   "execution_count": null,
   "metadata": {},
   "outputs": [
    {
     "name": "stderr",
     "output_type": "stream",
     "text": [
      "/home/a/anaconda3/envs/env-tda/lib/python3.9/site-packages/umap/umap_.py:1735: UserWarning: using precomputed metric; transform will be unavailable for new data and inverse_transform will be unavailable for all data\n",
      "  warn(\n",
      "/home/a/anaconda3/envs/env-tda/lib/python3.9/site-packages/umap/umap_.py:1735: UserWarning: using precomputed metric; transform will be unavailable for new data and inverse_transform will be unavailable for all data\n",
      "  warn(\n",
      "/home/a/anaconda3/envs/env-tda/lib/python3.9/site-packages/umap/umap_.py:1735: UserWarning: using precomputed metric; transform will be unavailable for new data and inverse_transform will be unavailable for all data\n",
      "  warn(\n",
      "/home/a/anaconda3/envs/env-tda/lib/python3.9/site-packages/umap/umap_.py:1735: UserWarning: using precomputed metric; transform will be unavailable for new data and inverse_transform will be unavailable for all data\n",
      "  warn(\n",
      "/home/a/anaconda3/envs/env-tda/lib/python3.9/site-packages/umap/umap_.py:1735: UserWarning: using precomputed metric; transform will be unavailable for new data and inverse_transform will be unavailable for all data\n",
      "  warn(\n",
      "/home/a/anaconda3/envs/env-tda/lib/python3.9/site-packages/umap/umap_.py:1735: UserWarning: using precomputed metric; transform will be unavailable for new data and inverse_transform will be unavailable for all data\n",
      "  warn(\n",
      "/home/a/anaconda3/envs/env-tda/lib/python3.9/site-packages/umap/umap_.py:1735: UserWarning: using precomputed metric; transform will be unavailable for new data and inverse_transform will be unavailable for all data\n",
      "  warn(\n",
      "/home/a/anaconda3/envs/env-tda/lib/python3.9/site-packages/umap/umap_.py:1735: UserWarning: using precomputed metric; transform will be unavailable for new data and inverse_transform will be unavailable for all data\n",
      "  warn(\n",
      "/home/a/anaconda3/envs/env-tda/lib/python3.9/site-packages/umap/umap_.py:1735: UserWarning: using precomputed metric; transform will be unavailable for new data and inverse_transform will be unavailable for all data\n",
      "  warn(\n",
      "/home/a/anaconda3/envs/env-tda/lib/python3.9/site-packages/umap/umap_.py:1735: UserWarning: using precomputed metric; transform will be unavailable for new data and inverse_transform will be unavailable for all data\n",
      "  warn(\n",
      "/home/a/anaconda3/envs/env-tda/lib/python3.9/site-packages/umap/umap_.py:1735: UserWarning: using precomputed metric; transform will be unavailable for new data and inverse_transform will be unavailable for all data\n",
      "  warn(\n"
     ]
    }
   ],
   "source": [
    "embed_list = []\n",
    "iter = 25\n",
    "for i in range(iter):\n",
    "    \n",
    "    umap_model_3d = UMAP(n_components=3,metric='precomputed',min_dist=iter/100)\n",
    "    umap_embed_3d = umap_model_3d.fit_transform(mdist)\n",
    "    embed_list.append(umap_embed_3d)"
   ]
  },
  {
   "cell_type": "code",
   "execution_count": 65,
   "metadata": {},
   "outputs": [
    {
     "data": {
      "text/plain": [
       "array([[-5.4531784,  4.679617 ,  8.171832 ],\n",
       "       [-5.328311 ,  4.4433255,  8.004784 ],\n",
       "       [-4.7096877,  6.428304 ,  5.431307 ],\n",
       "       ...,\n",
       "       [11.371906 , 11.842427 ,  2.418965 ],\n",
       "       [ 2.834363 ,  9.141927 ,  8.7145405],\n",
       "       [-4.381397 ,  1.5185795,  4.8660774]], dtype=float32)"
      ]
     },
     "execution_count": 65,
     "metadata": {},
     "output_type": "execute_result"
    }
   ],
   "source": [
    "embed_list[0]"
   ]
  },
  {
   "cell_type": "code",
   "execution_count": 71,
   "metadata": {
    "scrolled": true
   },
   "outputs": [
    {
     "data": {
      "text/plain": [
       "Text(0.5, 0.92, 'UMAP 3D Embedding Labeled by Subpopulation')"
      ]
     },
     "execution_count": 71,
     "metadata": {},
     "output_type": "execute_result"
    },
    {
     "data": {
      "image/png": "[encoded data removed]",
      "text/plain": [
       "<Figure size 360x360 with 1 Axes>"
      ]
     },
     "metadata": {
      "needs_background": "light"
     },
     "output_type": "display_data"
    }
   ],
   "source": [
    "fig = plt.figure(figsize=(5,5))\n",
    "ax = fig.add_subplot(111, projection='3d')\n",
    "scatter = ax.scatter(embed_list[0][:,0],embed_list[0][:,1],embed_list[0][:,2],s=2,c=metadata.loc[:,'12'])\n",
    "ax.legend(handles=scatter.legend_elements()[0],bbox_to_anchor=(1,1), labels=list(pd.unique(list(metadata['SUBPOPULATION']))))\n",
    "ax.set_axis_off()\n",
    "\n",
    "\n",
    "plt.title('UMAP 3D Embedding Labeled by Subpopulation')\n",
    "#plt.savefig('UMAP 3D Embedding Labeled by Subpopulation',dpi=600)"
   ]
  },
  {
   "cell_type": "code",
   "execution_count": 84,
   "metadata": {},
   "outputs": [
    {
     "name": "stdout",
     "output_type": "stream",
     "text": [
      "interval is 500.0\n"
     ]
    },
    {
     "data": {
      "text/plain": [
       "<function matplotlib.pyplot.show(close=None, block=None)>"
      ]
     },
     "execution_count": 84,
     "metadata": {},
     "output_type": "execute_result"
    },
    {
     "data": {
      "image/png": "[encoded data removed]",
      "text/plain": [
       "<Figure size 360x360 with 1 Axes>"
      ]
     },
     "metadata": {
      "needs_background": "light"
     },
     "output_type": "display_data"
    }
   ],
   "source": [
    "num_frames = iter\n",
    "length_in_milliseconds = 5000\n",
    "interval = length_in_milliseconds/num_frames\n",
    "print('interval is', interval)\n",
    "fig = plt.figure(figsize=(5,5))\n",
    "ax = fig.add_subplot(111, projection='3d')\n",
    "\n",
    "ax.set_axis_off()\n",
    "plt.margins(0,0,0)\n",
    "plt.tight_layout(pad=0)\n",
    "\n",
    "scatter = ax.scatter(embed_list[0][:,0],embed_list[0][:,1],embed_list[0][:,2],s=2,c=metadata.loc[:,'12'])\n",
    "\n",
    "legend = ax.legend(handles=scatter.legend_elements()[0],bbox_to_anchor=(1,1), labels=list(pd.unique(list(metadata['SUBPOPULATION']))))\n",
    "\n",
    "plt.title('UMAP 3D Embedding Labeled by Subpopulation')\n",
    "#plt.savefig('UMAP 3D Embedding Labeled by Subpopulation',dpi=600)\n",
    "def init():\n",
    "    ax.view_init(elev=0, azim=0)\n",
    "    scatter = ax.scatter(embed_list[0][:,0],embed_list[0][:,1],embed_list[0][:,2],s=2,c=metadata.loc[:,'12'])\n",
    "\n",
    "    legend = ax.legend(handles=scatter.legend_elements()[0],bbox_to_anchor=(1,1), labels=list(pd.unique(list(metadata['SUBPOPULATION']))))\n",
    "\n",
    "    return scatter, legend\n",
    "\n",
    "def animate(i):\n",
    "    scatter = ax.scatter(embed_list[i][:,0],embed_list[i][:,1],embed_list[i][:,2],s=2,c=metadata.loc[:,'12'])\n",
    "    legend = ax.legend(handles=scatter.legend_elements()[0],bbox_to_anchor=(1,1), labels=list(pd.unique(list(metadata['SUBPOPULATION']))))\n",
    "\n",
    "    ax.view_init(elev=0, azim=i*360/num_frames)\n",
    "    return scatter, legend\n",
    "\n",
    "anim = animation.FuncAnimation(fig, animate, init_func=init, interval = interval, frames=num_frames, repeat=True, blit=False)\n",
    "\n",
    "#writer = animation.FFMpegWriter(fps=50)\n",
    "\n",
    "filename = 'umap_params' + str(num_frames) + 'frames.gif'\n",
    "anim.save(filename,dpi=200)\n",
    "\n",
    "plt.show\n",
    "\n"
   ]
  },
  {
   "cell_type": "code",
   "execution_count": null,
   "metadata": {},
   "outputs": [],
   "source": []
  }
 ],
 "metadata": {
  "kernelspec": {
   "display_name": "Python 3",
   "language": "python",
   "name": "python3"
  },
  "language_info": {
   "codemirror_mode": {
    "name": "ipython",
    "version": 3
   },
   "file_extension": ".py",
   "mimetype": "text/x-python",
   "name": "python",
   "nbconvert_exporter": "python",
   "pygments_lexer": "ipython3",
   "version": "3.9.7"
  }
 },
 "nbformat": 4,
 "nbformat_minor": 4
}
