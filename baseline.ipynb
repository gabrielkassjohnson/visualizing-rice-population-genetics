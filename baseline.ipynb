{
 "cells": [
  {
   "cell_type": "code",
   "execution_count": 1,
   "metadata": {},
   "outputs": [],
   "source": [
    "#basic imports\n",
    "import numpy as np\n",
    "import pandas as pd\n",
    "import matplotlib.pyplot as plt\n",
    "import seaborn as sns; sns.set_theme()\n"
   ]
  },
  {
   "cell_type": "code",
   "execution_count": 2,
   "metadata": {},
   "outputs": [],
   "source": [
    "mdist = np.load('mdist.npy')"
   ]
  },
  {
   "cell_type": "code",
   "execution_count": 3,
   "metadata": {},
   "outputs": [
    {
     "name": "stdout",
     "output_type": "stream",
     "text": [
      "[[0.         0.10120478 0.1504743  ... 0.27176128 0.24148095 0.17750527]\n",
      " [0.10120478 0.         0.14626794 ... 0.26650642 0.2366366  0.17102387]\n",
      " [0.1504743  0.14626794 0.         ... 0.28104939 0.24686192 0.17239631]\n",
      " ...\n",
      " [0.27176128 0.26650642 0.28104939 ... 0.         0.26403602 0.26982255]\n",
      " [0.24148095 0.2366366  0.24686192 ... 0.26403602 0.         0.2361346 ]\n",
      " [0.17750527 0.17102387 0.17239631 ... 0.26982255 0.2361346  0.        ]]\n",
      "(3024, 3024)\n",
      "0.0\n",
      "0.9920769162289682\n",
      "2227858.0914171534\n",
      "0.24362617702747\n",
      "0.04692066263883729\n",
      "0.0022015485824675818\n",
      "0.24765571678684828\n",
      "0.24765571678684828\n"
     ]
    }
   ],
   "source": [
    "print(mdist)\n",
    "print(mdist.shape)\n",
    "print(mdist.min())\n",
    "print(mdist.max())\n",
    "print(mdist.sum())\n",
    "print(mdist.mean())\n",
    "print(mdist.std())\n",
    "print(mdist.var())\n",
    "print(np.median(mdist))\n",
    "print(np.percentile(mdist,50))"
   ]
  },
  {
   "cell_type": "code",
   "execution_count": 4,
   "metadata": {},
   "outputs": [],
   "source": [
    "cmdist = np.load('cmdist.npy') #condensed mdist"
   ]
  },
  {
   "cell_type": "code",
   "execution_count": 5,
   "metadata": {},
   "outputs": [
    {
     "name": "stdout",
     "output_type": "stream",
     "text": [
      "[0.10120478 0.1504743  0.07490331 ... 0.26403602 0.26982255 0.2361346 ]\n",
      "(4570776,)\n",
      "0.017530193774295974\n",
      "0.9920769162289682\n",
      "1113929.045708577\n",
      "0.24370676788986748\n",
      "0.046718693368125\n",
      "0.0021826363100248872\n",
      "0.24766808114978683\n",
      "0.24766808114978683\n"
     ]
    }
   ],
   "source": [
    "print(cmdist)\n",
    "print(cmdist.shape)\n",
    "print(cmdist.min())\n",
    "print(cmdist.max())\n",
    "print(cmdist.sum())\n",
    "print(cmdist.mean())\n",
    "print(cmdist.std())\n",
    "print(cmdist.var())\n",
    "print(np.median(cmdist))\n",
    "print(np.percentile(cmdist,50))"
   ]
  },
  {
   "cell_type": "code",
   "execution_count": null,
   "metadata": {},
   "outputs": [],
   "source": []
  }
 ],
 "metadata": {
  "kernelspec": {
   "display_name": "Python 3",
   "language": "python",
   "name": "python3"
  },
  "language_info": {
   "codemirror_mode": {
    "name": "ipython",
    "version": 3
   },
   "file_extension": ".py",
   "mimetype": "text/x-python",
   "name": "python",
   "nbconvert_exporter": "python",
   "pygments_lexer": "ipython3",
   "version": "3.8.10"
  }
 },
 "nbformat": 4,
 "nbformat_minor": 4
}
