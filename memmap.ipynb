{
 "cells": [
  {
   "cell_type": "code",
   "execution_count": 1,
   "metadata": {},
   "outputs": [
    {
     "name": "stdout",
     "output_type": "stream",
     "text": [
      "\u001b[0m\u001b[01;31mcore_v0.7.bed.gz\u001b[0m  \u001b[01;31mcore_v0.7.fam.gz\u001b[0m   rice.bed  rice.fam    Untitled.ipynb\r\n",
      "\u001b[01;31mcore_v0.7.bim.gz\u001b[0m  feature_array.npy  rice.bim  rice.ipynb\r\n"
     ]
    }
   ],
   "source": [
    "ls"
   ]
  },
  {
   "cell_type": "code",
   "execution_count": 6,
   "metadata": {},
   "outputs": [],
   "source": [
    "import numpy as np\n",
    "import scipy.spatial.distance\n"
   ]
  },
  {
   "cell_type": "code",
   "execution_count": 4,
   "metadata": {},
   "outputs": [],
   "source": [
    "memmap = np.memmap(\"feature_array.npy\", mode=\"r\",\n",
    "                  dtype=np.int16, shape=(1024, 1024))"
   ]
  },
  {
   "cell_type": "code",
   "execution_count": 5,
   "metadata": {},
   "outputs": [
    {
     "data": {
      "text/plain": [
       "memmap([[20115, 19797, 22864, ..., 16384,     0, 16384],\n",
       "        [    0, 16384,     0, ..., 16384,     0, 16384],\n",
       "        [    0, 16384,     0, ..., 16384,     0, 16384],\n",
       "        ...,\n",
       "        [    0, 16384,     0, ..., 16384,     0, 16384],\n",
       "        [    0, 16384,     0, ..., 16384,     0, 16384],\n",
       "        [    0, 16384,     0, ..., 16384,     0, 16384]], dtype=int16)"
      ]
     },
     "execution_count": 5,
     "metadata": {},
     "output_type": "execute_result"
    }
   ],
   "source": [
    "memmap"
   ]
  },
  {
   "cell_type": "code",
   "execution_count": 7,
   "metadata": {},
   "outputs": [],
   "source": [
    "#compute a distance matrix, use a memmap!\n",
    "mdist_scipy_hamming = scipy.spatial.distance.pdist(memmap, metric='hamming')"
   ]
  },
  {
   "cell_type": "code",
   "execution_count": 8,
   "metadata": {},
   "outputs": [
    {
     "data": {
      "text/plain": [
       "(523776,)"
      ]
     },
     "execution_count": 8,
     "metadata": {},
     "output_type": "execute_result"
    }
   ],
   "source": [
    "mdist_scipy_hamming.shape"
   ]
  },
  {
   "cell_type": "code",
   "execution_count": null,
   "metadata": {},
   "outputs": [],
   "source": []
  }
 ],
 "metadata": {
  "kernelspec": {
   "display_name": "Python 3",
   "language": "python",
   "name": "python3"
  },
  "language_info": {
   "codemirror_mode": {
    "name": "ipython",
    "version": 3
   },
   "file_extension": ".py",
   "mimetype": "text/x-python",
   "name": "python",
   "nbconvert_exporter": "python",
   "pygments_lexer": "ipython3",
   "version": "3.8.5"
  }
 },
 "nbformat": 4,
 "nbformat_minor": 4
}
